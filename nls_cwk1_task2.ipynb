{
 "cells": [
  {
   "cell_type": "markdown",
   "metadata": {},
   "source": [
    "# Natural Language Systems (COMP34112) \n",
    "# Alexander Angelov<br>\n",
    "## Coursework 1 (Task 2)"
   ]
  },
  {
   "cell_type": "markdown",
   "metadata": {},
   "source": [
    "Importing the necessary libraries and downloading the corpuses(if needed)."
   ]
  },
  {
   "cell_type": "code",
   "execution_count": 1,
   "metadata": {},
   "outputs": [],
   "source": [
    "from nltk import *\n",
    "import numpy as np\n",
    "from sklearn.cluster import KMeans\n",
    "import copy\n",
    "import string\n",
    "from random import *\n",
    "import matplotlib.pyplot as plt\n",
    "#download('brown')\n",
    "#download('stopwords')\n",
    "#download('product_reviews_2')"
   ]
  },
  {
   "cell_type": "markdown",
   "metadata": {},
   "source": [
    "#### Loading the data from the target words list into an array."
   ]
  },
  {
   "cell_type": "code",
   "execution_count": 2,
   "metadata": {},
   "outputs": [],
   "source": [
    "with open(\"./target-words.txt\",'r') as target_words_file:\n",
    "\ttarget_words = target_words_file.readlines()\n",
    "target_words = [word.strip(\"\\n\") for word in target_words]\n",
    "\n",
    "\n",
    "\n",
    "stopwords = corpus.stopwords.words('english')\n",
    "porter_stemmer = PorterStemmer()"
   ]
  },
  {
   "cell_type": "markdown",
   "metadata": {},
   "source": [
    "#### Function creating context for each occurence of a word in a given target word list.<br> \n",
    "The function gets a corpus containing data from different documents and target words as arguments and returns an array consisting of shorter arrays each containing context of a target word for given context size. In addition, stemming, stopword removal, or context resize can be applied to the given data.<br>\n",
    "At the beginning, we remove all special symbols and digits from the original corpus. Afterwards, it is separated into smaller contexts/chunks depending on the target words list and the context size."
   ]
  },
  {
   "cell_type": "code",
   "execution_count": 3,
   "metadata": {},
   "outputs": [],
   "source": [
    "def corpus_representation(corpora_list,target_words,context_size=5,remove_stopwords=False,stemming=False):\n",
    "\n",
    "    new_corpora = []\n",
    "    for corpora in corpora_list:\n",
    "        for document_id in corpora.fileids():\n",
    "            document_corpus = corpora.words(fileids=[document_id])\n",
    "\n",
    "            corpora_after_symbol_removal = []\n",
    "            for word in document_corpus:\n",
    "                for symbol in string.punctuation:\n",
    "                    word = word.replace(symbol, \"\")\n",
    "                for symbol in string.digits:\n",
    "                    word = word.replace(symbol, \"\")\n",
    "                if remove_stopwords:\n",
    "                    if word.lower() in stopwords and not (word.lower() in target_words):\n",
    "                        word == \"\"\n",
    "                if stemming:\n",
    "                    if not (word.lower() in target_words):\n",
    "                        word = porter_stemmer.stem(word)\n",
    "\n",
    "                if word != \"\":\n",
    "                    corpora_after_symbol_removal.append(word)\n",
    "                \n",
    "            for word_number in range(len(corpora_after_symbol_removal)):\n",
    "                if corpora_after_symbol_removal[word_number] in target_words:\n",
    "                    if word_number - context_size < 0:\n",
    "                        window_start = 0\n",
    "                    else:\n",
    "                        window_start = word_number - context_size\n",
    "\n",
    "                    if word_number + context_size + 1 > len(corpora_after_symbol_removal):\n",
    "                        window_end = len(corpora_after_symbol_removal)\n",
    "                    else:\n",
    "                        window_end = word_number + context_size + 1\n",
    "\n",
    "                    context_window = corpora_after_symbol_removal[window_start:window_end]\n",
    "                    new_corpora.append(context_window)\n",
    "    return new_corpora"
   ]
  },
  {
   "cell_type": "markdown",
   "metadata": {},
   "source": [
    "#### Function creating a word-by-word matrix from the created smaller contexts and a given target list.<br>\n",
    "Firstly, a matrix is created full of zeros with size m * n, where m is the size of the target words list and n is the number of different tokens in the updated corpus. Each cell in the matrix is incremented with 1 if it is found in a smaller context together with the target word corresponding to the row of the cell."
   ]
  },
  {
   "cell_type": "code",
   "execution_count": 4,
   "metadata": {},
   "outputs": [],
   "source": [
    "def get_word_by_word_matrix(target_words,corpora):\n",
    "\tcorpora_words = []\n",
    "\tfor context_window in corpora:\n",
    "\t\tcorpora_words += context_window\n",
    "\t\t\n",
    "\tword_dictionary = list(set(corpora_words))\n",
    "\tword_matrix = np.zeros((len(target_words),len(word_dictionary)))\n",
    "\t\n",
    "\tfor target_word_id in range(len(target_words)):\n",
    "\t\tfor context_window in corpora:\n",
    "\t\t\ttarget_word_count = 0\n",
    "\t\t\tif context_window.count(target_words[target_word_id]) > 0:\n",
    "\t\t\t\tfor word in context_window:\n",
    "\t\t\t\t\tif word!= target_words[target_word_id]:\n",
    "\t\t\t\t\t\tword_matrix[target_word_id][word_dictionary.index(word)] += 1\n",
    "\t\t\t\t\telse:\n",
    "\t\t\t\t\t\tif target_word_count >= 1 and word == target_words[target_word_id]:\n",
    "\t\t\t\t\t\t\tword_matrix[target_word_id][word_dictionary.index(word)] += 1\n",
    "\t\t\t\t\t\ttarget_word_count += 1\n",
    "\treturn word_matrix"
   ]
  },
  {
   "cell_type": "markdown",
   "metadata": {},
   "source": [
    "Functions for:\n",
    "<ol>\n",
    "<li>Getting all positions of the given word in a given corpus.</li>\n",
    "<li>Reversing a word.</li>\n",
    "<li>Reversing half of the occurences of every word from a given target word list in in the corpus and returning the new one.</li>\n",
    "</ol>"
   ]
  },
  {
   "cell_type": "code",
   "execution_count": 5,
   "metadata": {},
   "outputs": [],
   "source": [
    "def get_word_occurrencies(target_list,word):\n",
    "\treturn [word_index for word_index, word_value in enumerate(target_list) if word_value == word]\n",
    "\t\n",
    "def reverse_word(word):\n",
    "\treturn word[::-1]\n",
    "\n",
    "def reverse_corpus(target_words,corpora):\n",
    "\tnew_corpura = copy.deepcopy(corpora)\n",
    "\tfor target_word in target_words:\n",
    "\t\tcontext_number = -1\n",
    "\t\toccurrences = []\n",
    "\t\tfor context_window in corpora:\n",
    "\t\t\tcontext_number += 1\n",
    "\t\t\tif context_window.count(target_word) > 0:\n",
    "\t\t\t\ttarget_word_occurrencies = get_word_occurrencies(context_window,target_word)\n",
    "\t\t\t\tfor location in target_word_occurrencies:\n",
    "\t\t\t\t\toccurrences.append((context_number,location))\n",
    "\t\treverse_words = sample(occurrences, len(occurrences) // 2)\n",
    "\t\tfor word in reverse_words:\n",
    "\t\t\tnew_corpura[word[0]][word[1]] = reverse_word(target_word)\n",
    "\treturn new_corpura"
   ]
  },
  {
   "cell_type": "markdown",
   "metadata": {},
   "source": [
    "### A) Implementation\n",
    "#### Using the Brown corpus to classify 50 target words into 50 clusters.\n",
    "Firstly, I apply the function to get the new corpus representation. Secondly, the word-by-word matrix was made for the given set of target words. Thirdly, a K-means classifier was used for the matrix to classify our words into 50 different clusters."
   ]
  },
  {
   "cell_type": "code",
   "execution_count": 6,
   "metadata": {},
   "outputs": [
    {
     "name": "stdout",
     "output_type": "stream",
     "text": [
      "(50, 15648)\n",
      "[46 32 31 43 10 39 47  3 27 15 17 41 45  5  0 13 41 36 20  6  7 11 41 38\n",
      " 29 28 37  2 42 12 30 18  8 24  4 40  9 22 14 23 19 25 35 21  1 16 33 34\n",
      " 26 44]\n"
     ]
    },
    {
     "name": "stderr",
     "output_type": "stream",
     "text": [
      "/home/alex/anaconda3/lib/python3.7/site-packages/ipykernel_launcher.py:4: ConvergenceWarning: Number of distinct clusters (48) found smaller than n_clusters (50). Possibly due to duplicate points in X.\n",
      "  after removing the cwd from sys.path.\n"
     ]
    }
   ],
   "source": [
    "brown_corpus = corpus_representation([corpus.brown],target_words)\n",
    "target_matrix = get_word_by_word_matrix(target_words,brown_corpus)\n",
    "print(target_matrix.shape)\n",
    "clusted_data = KMeans(50).fit(target_matrix)\n",
    "print(clusted_data.labels_)"
   ]
  },
  {
   "cell_type": "markdown",
   "metadata": {},
   "source": [
    "### B) Evaluation\n"
   ]
  },
  {
   "cell_type": "markdown",
   "metadata": {},
   "source": [
    "Creating a new list of target words, containing the given target words and their reversed."
   ]
  },
  {
   "cell_type": "code",
   "execution_count": 7,
   "metadata": {},
   "outputs": [],
   "source": [
    "updated_target_words = copy.copy(target_words)\n",
    "for index in range(len(target_words)):\n",
    "\tupdated_target_words.append(reverse_word(target_words[index]))"
   ]
  },
  {
   "cell_type": "markdown",
   "metadata": {},
   "source": [
    "The function is analyzing how many words can be paired correctly when using the K-means clustering (with 50 clusters) on the reversed corpus. The process is repeated 5 times. The correct pairs per iteration are visualized and the accuracy per iteration is displayed. At the end the average accuracy of all five iterations is returned."
   ]
  },
  {
   "cell_type": "code",
   "execution_count": 8,
   "metadata": {},
   "outputs": [],
   "source": [
    "def get_avarage_accuracy(corpora,target_words,context_size=5,remove_stopwords=False,stemming=False,printing=True):\n",
    "    corpus_data = corpus_representation(corpora,target_words,context_size,remove_stopwords,stemming)\n",
    "\n",
    "    times = 0\n",
    "    average_accuracy = 0\n",
    "    repeating_times = [1,2,3,4,5]\n",
    "    correct_pairs_array = []\n",
    "    while times < 5:\n",
    "        times += 1\n",
    "        print(str(times) + \" time\\n\")\n",
    "        \n",
    "        new_corpus_data = reverse_corpus(target_words,corpus_data)\n",
    "\n",
    "        target_matrix = get_word_by_word_matrix(updated_target_words,new_corpus_data)\n",
    "\n",
    "        clusted_data = KMeans(50).fit(target_matrix)\n",
    "\n",
    "        cluster_labels = clusted_data.labels_\n",
    "        if printing:\n",
    "            print(cluster_labels)\n",
    "\n",
    "        correct_pairs = 0\n",
    "\n",
    "        for word_pair in range(len(cluster_labels) // 2):\n",
    "            if cluster_labels[word_pair] == cluster_labels[word_pair + len(target_words)]:\n",
    "                correct_pairs += 1\n",
    "                \n",
    "        correct_pairs_array.append(correct_pairs)\n",
    "        print(\"Accuracy: \" + str(correct_pairs/len(target_words)) + \"\\n\")\n",
    "        average_accuracy += correct_pairs/len(target_words)\n",
    "    plt.bar(repeating_times,correct_pairs_array)\n",
    "    plt.xlabel('Iteration')\n",
    "    plt.ylabel('Correct pairs')\n",
    "    plt.title('Correct pairs per iteration')\n",
    "    for i in range(len(correct_pairs_array)):\n",
    "        plt.annotate(str(correct_pairs_array[i]), xy=(repeating_times[i],correct_pairs_array[i]), ha='center', va='bottom')\n",
    "    plt.show()\n",
    "    print(\"The avarage accuracy is: \" + str(average_accuracy / 5) + \"\\n\")\n",
    "    print(\"######################################################################################################\")\n",
    "    return average_accuracy / 5"
   ]
  },
  {
   "cell_type": "markdown",
   "metadata": {},
   "source": [
    "### C) Analysis\n",
    "#### Running the program on the Product reviews corpus with different features (stopword removal, stemming or different context size)."
   ]
  },
  {
   "cell_type": "markdown",
   "metadata": {},
   "source": [
    "##### No additional features applied."
   ]
  },
  {
   "cell_type": "code",
   "execution_count": 9,
   "metadata": {},
   "outputs": [
    {
     "name": "stdout",
     "output_type": "stream",
     "text": [
      "No stemming and no stopword removal\n",
      "\n",
      "1 time\n",
      "\n",
      "[ 1 11 16 38 16  1  1  0 45 21 35  1  8 42  1 30  1 40  1  7 16 46  1 44\n",
      "  6  1  1 41 48 16  1  1 29  5 16  2 23 39  1  1 15 18  1 25  3  1 26 16\n",
      " 34  1  1 28 16 47 16  1  1 20 22 49 31  1 13 32  1 36  1 16  1 27 16 24\n",
      "  1 44  6  1  1 16 16 16  1  1 41  9 16 12  4 43  1  1 19 33  1 17 14  1\n",
      " 10  1 37  1]\n",
      "Accuracy: 0.48\n",
      "\n",
      "2 time\n",
      "\n",
      "[ 8 27 46 18 46  8  8 13  5 21 28  8 11 35  8 36  8 44  8 19 46 22  8 47\n",
      " 25  8  8 49 46 39  8  8 46 14 18  7 15 43  8  8 29 26  8 23  3  8 17  1\n",
      " 33  8  8 30 46 18 46  8  8 12 32 37 31  8  0 45  8 40  8 46  8  6 39 41\n",
      "  8  1 25  8  8 46  8 39  8  8 48  4 46 16 24 34  8  8 10 38  8 20  9  8\n",
      "  2  1 42  8]\n",
      "Accuracy: 0.46\n",
      "\n",
      "3 time\n",
      "\n",
      "[26 30 42 41 42 26 26 17 40 43 19 26 16 37 26 36 26 45 26  7 14 39 26 49\n",
      " 48 26 26 42  9 47 26 26 38 11 41 15  4 34 26 26 10 31 26 33 12  9  8  1\n",
      " 27 26 26 24 42 41 42 26 26  2 44 23 28 26  3 46 26 35 26 47 26 25 14 39\n",
      " 26  1 48 26 26 42  9 42 26 26 42  0 47  6 18 20 26 26 21 22 26 32  5 26\n",
      " 13  1 29 26]\n",
      "Accuracy: 0.5\n",
      "\n",
      "4 time\n",
      "\n",
      "[28 31  9 30 30 28 28 27 40 49 38 28  8 34 28 43 28 37 28  7 30 39 28 47\n",
      " 26 28 28 30  0 30 28 28 33 13 30 10 24 35 28 28 18 36 28  5  2  0 12 28\n",
      " 29 28 28 25  9 46 30 28 28  1 44 21 19 28  4 34 28 41 28 45 28 16 30 23\n",
      " 28  0 26 28 28  0  0 30 28 28 42  6 30  3 17 48 28 28 20 15 28 14 11 28\n",
      " 22 28 32 28]\n",
      "Accuracy: 0.5\n",
      "\n",
      "5 time\n",
      "\n",
      "[ 0 31 46 37 46  0  0  2 48 21 39  0 10 40  0 34  0 42  0  7 46 44  0 20\n",
      " 43  0  0 30 46 46  0  0 30  9 37 13 14 41  0  0  8 24  0 26 12  0 11  0\n",
      " 38  0  0 32 46 49 46  0  0 19 17 47 23  0  3 33  0 35  0 25  0 22 25 36\n",
      "  0 20 45  0  0 30  0 46  0  0 30 16 46  6 28  5  0  0 15 29  0 18  4  0\n",
      "  1  0 27  0]\n",
      "Accuracy: 0.48\n",
      "\n"
     ]
    },
    {
     "data": {
      "image/png": "[encoded data removed]",
      "text/plain": [
       "<Figure size 432x288 with 1 Axes>"
      ]
     },
     "metadata": {
      "needs_background": "light"
     },
     "output_type": "display_data"
    },
    {
     "name": "stdout",
     "output_type": "stream",
     "text": [
      "The avarage accuracy is: 0.484\n",
      "\n",
      "######################################################################################################\n"
     ]
    }
   ],
   "source": [
    "################################################################################## No stopword and no stemming\n",
    "accuracy_list = []\n",
    "print(\"No stemming and no stopword removal\\n\")\n",
    "accuracy_list.append(get_avarage_accuracy([corpus.product_reviews_2],target_words))"
   ]
  },
  {
   "cell_type": "markdown",
   "metadata": {},
   "source": [
    "##### Applying only stopword removal."
   ]
  },
  {
   "cell_type": "code",
   "execution_count": 10,
   "metadata": {},
   "outputs": [
    {
     "name": "stdout",
     "output_type": "stream",
     "text": [
      "Stopword removal only\n",
      "\n",
      "1 time\n",
      "\n",
      "[22 31 16 43  8 22 22 13 42 28 34 22  3 47 22 40 22  8 22 21  8 38 22 41\n",
      " 35 22 22 46  0 16 22 22 39  7 39 18 20 45 22 22 11 30 22 32  2  8  1  8\n",
      " 29 22 22  6  8 43  8 22 22 15 25 44  9 22 19 36 22 33 22 39 22  5 16 38\n",
      " 22 48  8 22 22  8  8 16 22 22 49 12 16  4 24 37 22 22 23 17 22 26 10 22\n",
      " 14  8 27 22]\n",
      "Accuracy: 0.42\n",
      "\n",
      "2 time\n",
      "\n",
      "[ 1 28 46 36 46  1  1  0 35 31 23  1 12 41  1 45  1 48  1 19 17 21  1 17\n",
      " 39  1  1 46 47 17  1  1 40  3 36 11 14 42  1  1 10 32  1 22  2  1 13  1\n",
      " 26  1  1  8 46 36  1  1  1 25 29 33 38  1  7 37  1 30  1 49  1  9 17 21\n",
      "  1 43 39  1  1 46 47 46  1  1  4 16 17  5 27 24  1  1 18 44  1 20  6  1\n",
      " 15  1 34  1]\n",
      "Accuracy: 0.5\n",
      "\n",
      "3 time\n",
      "\n",
      "[20 10 40 34  4 20 20 22 47 43 23 20  1 37 20 36 20 45 20 11 34 39 20 14\n",
      " 48 20 20  0  4 34 20 20 14  6 34  7  2 38 20 20 25 19 20  9  3 20 21  4\n",
      " 31 20 20 27 40 42  4 20 20 16 32 26 33 20 13 41 20 46 20 44 20 24  4 39\n",
      " 20 14 48 20 20 40  4 34 20 20 49 18 34 17 28 30 20 20 15 29 20 12  8 20\n",
      "  5  4 35 20]\n",
      "Accuracy: 0.52\n",
      "\n",
      "4 time\n",
      "\n",
      "[34 29  0 46 26 34 34  6 40 23 36 34 17 37 34 14 34 43 34 16  5 15 34 47\n",
      " 27 34 34 42 49 26 34 34 42  1 26  7 21 41 34 34 20 22 34 30  3 34 13 34\n",
      " 33 34 34 28  0 26 34 34 34 19 38 39 31 34  4 32 34 45 34  0 34  2 26 44\n",
      " 34 26 27 34 34 42  5 26 34 34 48 18 26 11 10 41 34 34  8 25 34 24  9 34\n",
      " 12 34 35 34]\n",
      "Accuracy: 0.48\n",
      "\n",
      "5 time\n",
      "\n",
      "[35  5 24 24 24 35 35 19 41 39 28 35 11 20 35 31 35 43 35 17 24 34 35  8\n",
      " 38 35 35 49  1 24 35 35 40  6 24 12 22 21 35 35  2 27 35 36  3 35 16 35\n",
      " 30 35 35 33 24 48 24 35 35 13 44 26 18 35  0 47 35 32 35 42 35  7 24 46\n",
      " 35 45 38 35 35 24  1 24 35 35  1 23 24  4 15 21 35 35 25 37 35 14 10 35\n",
      "  9 35 29 35]\n",
      "Accuracy: 0.52\n",
      "\n"
     ]
    },
    {
     "data": {
      "image/png": "[encoded data removed]",
      "text/plain": [
       "<Figure size 432x288 with 1 Axes>"
      ]
     },
     "metadata": {
      "needs_background": "light"
     },
     "output_type": "display_data"
    },
    {
     "name": "stdout",
     "output_type": "stream",
     "text": [
      "The avarage accuracy is: 0.488\n",
      "\n",
      "######################################################################################################\n"
     ]
    }
   ],
   "source": [
    "################################################################################## Stopword and no stemming\n",
    "print(\"Stopword removal only\\n\")\n",
    "accuracy_list.append(get_avarage_accuracy([corpus.product_reviews_2],target_words,remove_stopwords = True))"
   ]
  },
  {
   "cell_type": "markdown",
   "metadata": {},
   "source": [
    "##### Applying only stemming."
   ]
  },
  {
   "cell_type": "code",
   "execution_count": 11,
   "metadata": {},
   "outputs": [
    {
     "name": "stdout",
     "output_type": "stream",
     "text": [
      "Stemming only\n",
      "\n",
      "1 time\n",
      "\n",
      "[ 1 26  5 42  5  1  1  8 41 31 18  1  9 45  1 39  1 28  1 11  5 10  1 47\n",
      " 25  1  1  5 47 44  1  1 40 19 35  6 16 32  1 49 20 24  1 23  2  1 21  1\n",
      " 38  1  1 13  5 42  5  1  1 27 15 31 29  1 22 45  1 37  1 36  1 30 45 46\n",
      "  1  5 48  1  1 45 47 44  1  1 40  4 35 17 14  0  1 49  7 43  1 34 12  1\n",
      "  3  5 33  1]\n",
      "Accuracy: 0.52\n",
      "\n",
      "2 time\n",
      "\n",
      "[30 28  0 49  0 30 30 17 35 33 32 30  7 38 30 43 30 31 30 34  0 22 30  0\n",
      " 37 30 30 26 30 16 30 30 36 13 16 19 21 27 30 48 15 40 30 18  9 30 23  0\n",
      " 29 30 30 42  0 26  0 30 30 11 12 33 24 30 20 38 30 47 30 45 30 10  0 44\n",
      " 30 48 46 30 30 26 30  0 30 30  8  4 16  2  1  6 30 48  5 39 30 25  3 30\n",
      " 14  0 41 30]\n",
      "Accuracy: 0.52\n",
      "\n",
      "3 time\n",
      "\n",
      "[ 2 32 45  8 45  2  2  7 43 47 33  2  9 48  2 36  2 25  2 24 45 42  2 41\n",
      " 40  2  2  8 45 11  2  2 29  1 37 12 17 35  2 45 13 38  2 31  5  2  3 45\n",
      "  0  2  2 23 45 41 45  2  2 27 15 44 30  2 14 48  2 46  2 39  2 10 45 34\n",
      "  2 49 28  2  2  8 45 49  2  2 29 21 37  6 20 26  2 45 19 22  2 16  4  2\n",
      " 18 45  0  2]\n",
      "Accuracy: 0.54\n",
      "\n",
      "4 time\n",
      "\n",
      "[17 29  1 42  1 17 17 24 28 49 26 17 13 37 17 47 17 32 17 23  1 43 17 18\n",
      "  5 17 17 41  1 27 17 17 18 11 40  6  2 45 17  1  7 31 17 14 10 17  9  1\n",
      " 33 17 17 44  1 42  1 17 17 12 16 48 34 17  4 46 17  1 17 35 17  8  1 21\n",
      " 17  1  5 17 17 41 17  1 17 17 30  3 27 15 22 25 17  1 20 38 17 36  0 17\n",
      " 19  1 39 17]\n",
      "Accuracy: 0.48\n",
      "\n",
      "5 time\n",
      "\n",
      "[30 33 39 49  5 30 30 21 27 28 31 30 18 44 30 43 30 34 30 15 39 23 30  5\n",
      " 48 30 30 46  0 39 30 30 32 14 13 12 22 29 30  5 19 38 30 26  2 30 11  5\n",
      " 35 30 30 36  5 49 30 30 30  7 16 28 24 30  1 39 30 46 30  9 30 20 39 23\n",
      " 30 32 41 30 30 47  0 39 30 30 45  6 13  3  4 42 30  5 10 25 30 37  8 30\n",
      " 17  5 40 30]\n",
      "Accuracy: 0.5\n",
      "\n"
     ]
    },
    {
     "data": {
      "image/png": "[encoded data removed]",
      "text/plain": [
       "<Figure size 432x288 with 1 Axes>"
      ]
     },
     "metadata": {
      "needs_background": "light"
     },
     "output_type": "display_data"
    },
    {
     "name": "stdout",
     "output_type": "stream",
     "text": [
      "The avarage accuracy is: 0.512\n",
      "\n",
      "######################################################################################################\n"
     ]
    }
   ],
   "source": [
    "################################################################################## No stopword but stemming\n",
    "print(\"Stemming only\\n\")\n",
    "accuracy_list.append(get_avarage_accuracy([corpus.product_reviews_2],target_words,stemming = True))"
   ]
  },
  {
   "cell_type": "markdown",
   "metadata": {},
   "source": [
    "##### Applying both stopword removal and stemming."
   ]
  },
  {
   "cell_type": "code",
   "execution_count": 12,
   "metadata": {},
   "outputs": [
    {
     "name": "stdout",
     "output_type": "stream",
     "text": [
      "Stemming and Stopword removal\n",
      "\n",
      "1 time\n",
      "\n",
      "[18 20 31 42 31 18 18 19  9 31 32 18 12  6 18 49 18 46 18 24  0 26 18 31\n",
      " 47 18 18 31  0 21 18 18 43  5 21  2 30 14 18 49  7 40 18 38  4 18 16 31\n",
      " 33 18 18 35 31 42 31 18 18 17 23 37 39 18  1  6 18 48 18 29 18  3 31 36\n",
      " 18  0 41 18 18 31  0 21 18 18 28 11 45 15 10 34 18 31 22 27 18 25  8 18\n",
      " 13 31 44 18]\n",
      "Accuracy: 0.48\n",
      "\n",
      "2 time\n",
      "\n",
      "[16 39  4 40  4 16 16  5 26 32 30 16  7 27 16 42 16 35 16 36  4 17 16 40\n",
      " 25 16 16 48  4 40 16 16 40 22  8  1  9 23 16  0 11 45 16 31 15 16  2  4\n",
      " 41 16 16 34  4 40 16 16 16 20 12 32 21 16 19 27 16 43 16 38 16 10  4 44\n",
      " 16 40 25 16 16 47  4 40 16 16 46  6 49 14 13 33 16  0 18 29 16 24  3 16\n",
      " 28  4 37 16]\n",
      "Accuracy: 0.54\n",
      "\n",
      "3 time\n",
      "\n",
      "[ 0 32 33  6 33  0  0  5 23 30 25  0 11 44  0 38  0 42  0  2 33 31  0 33\n",
      " 40  0  0 49  0 16  0  0 46  3 29 14 27 26  0 33 10 22  0 36  9  0 19 33\n",
      " 43  0  0 37 33  6 33  0  0 18 24 30 28  0 17 45  0 39  0 41  0 12 33 47\n",
      "  0 33 48  0  0 49 33 16  0  0 46 20 16  1 13  8  0 33 21 34  0  7  4  0\n",
      " 15 33 35  0]\n",
      "Accuracy: 0.54\n",
      "\n",
      "4 time\n",
      "\n",
      "[ 2 31 45 41 45  2  2  3 13 39 23  2  6  0  2 40  2 29  2 18 45 49  2 12\n",
      " 46  2  2 48 45 37  2  2 12 15  7  1 22 20  2 45  9 38  2 26  5  2 17 45\n",
      " 21  2  2 43 45 41 45  2  2 30 36 47 33  2 11  0  2 35  2 28  2  8 45 25\n",
      "  2 45 42  2  2 12  2 37  2  2 12  4 37 14 24 32  2 45 19 34  2 27 10  2\n",
      " 16 45 44  2]\n",
      "Accuracy: 0.5\n",
      "\n",
      "5 time\n",
      "\n",
      "[ 0 25 27 41 27  0  0 26 15 33 14  0 17 38  0 42  0 44  0 29 27 45  0 27\n",
      " 23  0  0  9 27 48  0  0  9 11  5 21  1 36  0 27 10 40  0 30  4  0 20 27\n",
      " 35  0  0 31 27 39 27  0  0 19 22 33 34  0  6 38  0 37  0 43  0 16 27 24\n",
      "  0 39 47  0  0 49  0 27  0  0  9  3  5  2 12  8  0 27 28 32  0 18 13  0\n",
      "  7 27 46  0]\n",
      "Accuracy: 0.5\n",
      "\n"
     ]
    },
    {
     "data": {
      "image/png": "[encoded data removed]",
      "text/plain": [
       "<Figure size 432x288 with 1 Axes>"
      ]
     },
     "metadata": {
      "needs_background": "light"
     },
     "output_type": "display_data"
    },
    {
     "name": "stdout",
     "output_type": "stream",
     "text": [
      "The avarage accuracy is: 0.512\n",
      "\n",
      "######################################################################################################\n"
     ]
    }
   ],
   "source": [
    "################################################################################## Stopword and stemming\n",
    "print(\"Stemming and Stopword removal\\n\")\n",
    "accuracy_list.append(get_avarage_accuracy([corpus.product_reviews_2],target_words,remove_stopwords = True, stemming = True))"
   ]
  },
  {
   "cell_type": "markdown",
   "metadata": {},
   "source": [
    "###### Visualizing the accuracy change"
   ]
  },
  {
   "cell_type": "code",
   "execution_count": 13,
   "metadata": {},
   "outputs": [
    {
     "data": {
      "image/png": "[encoded data removed]",
      "text/plain": [
       "<Figure size 432x288 with 1 Axes>"
      ]
     },
     "metadata": {
      "needs_background": "light"
     },
     "output_type": "display_data"
    }
   ],
   "source": [
    "stem_stopword = ['No','Stopword','Stem','Both']\n",
    "plt.plot(stem_stopword,accuracy_list)\n",
    "plt.xlabel('Features')\n",
    "plt.ylabel('Accuracy')\n",
    "plt.title('Accuracy for given feature')\n",
    "plt.show()"
   ]
  },
  {
   "cell_type": "markdown",
   "metadata": {},
   "source": [
    "##### Displaying the average accuracy when the context size is increased"
   ]
  },
  {
   "cell_type": "code",
   "execution_count": 14,
   "metadata": {},
   "outputs": [
    {
     "name": "stdout",
     "output_type": "stream",
     "text": [
      "Context size 5\n",
      "\n",
      "1 time\n",
      "\n",
      "Accuracy: 0.48\n",
      "\n",
      "2 time\n",
      "\n",
      "Accuracy: 0.48\n",
      "\n",
      "3 time\n",
      "\n",
      "Accuracy: 0.54\n",
      "\n",
      "4 time\n",
      "\n",
      "Accuracy: 0.52\n",
      "\n",
      "5 time\n",
      "\n",
      "Accuracy: 0.44\n",
      "\n"
     ]
    },
    {
     "data": {
      "image/png": "[encoded data removed]",
      "text/plain": [
       "<Figure size 432x288 with 1 Axes>"
      ]
     },
     "metadata": {
      "needs_background": "light"
     },
     "output_type": "display_data"
    },
    {
     "name": "stdout",
     "output_type": "stream",
     "text": [
      "The avarage accuracy is: 0.492\n",
      "\n",
      "######################################################################################################\n",
      "Context size 10\n",
      "\n",
      "1 time\n",
      "\n",
      "Accuracy: 0.52\n",
      "\n",
      "2 time\n",
      "\n",
      "Accuracy: 0.48\n",
      "\n",
      "3 time\n",
      "\n",
      "Accuracy: 0.56\n",
      "\n",
      "4 time\n",
      "\n",
      "Accuracy: 0.54\n",
      "\n",
      "5 time\n",
      "\n",
      "Accuracy: 0.52\n",
      "\n"
     ]
    },
    {
     "data": {
      "image/png": "[encoded data removed]",
      "text/plain": [
       "<Figure size 432x288 with 1 Axes>"
      ]
     },
     "metadata": {
      "needs_background": "light"
     },
     "output_type": "display_data"
    },
    {
     "name": "stdout",
     "output_type": "stream",
     "text": [
      "The avarage accuracy is: 0.524\n",
      "\n",
      "######################################################################################################\n",
      "Context size 15\n",
      "\n",
      "1 time\n",
      "\n",
      "Accuracy: 0.56\n",
      "\n",
      "2 time\n",
      "\n",
      "Accuracy: 0.58\n",
      "\n",
      "3 time\n",
      "\n",
      "Accuracy: 0.52\n",
      "\n",
      "4 time\n",
      "\n",
      "Accuracy: 0.58\n",
      "\n",
      "5 time\n",
      "\n",
      "Accuracy: 0.56\n",
      "\n"
     ]
    },
    {
     "data": {
      "image/png": "[encoded data removed]",
      "text/plain": [
       "<Figure size 432x288 with 1 Axes>"
      ]
     },
     "metadata": {
      "needs_background": "light"
     },
     "output_type": "display_data"
    },
    {
     "name": "stdout",
     "output_type": "stream",
     "text": [
      "The avarage accuracy is: 0.56\n",
      "\n",
      "######################################################################################################\n",
      "Context size 25\n",
      "\n",
      "1 time\n",
      "\n",
      "Accuracy: 0.6\n",
      "\n",
      "2 time\n",
      "\n",
      "Accuracy: 0.6\n",
      "\n",
      "3 time\n",
      "\n",
      "Accuracy: 0.58\n",
      "\n",
      "4 time\n",
      "\n",
      "Accuracy: 0.6\n",
      "\n",
      "5 time\n",
      "\n",
      "Accuracy: 0.58\n",
      "\n"
     ]
    },
    {
     "data": {
      "image/png": "[encoded data removed]",
      "text/plain": [
       "<Figure size 432x288 with 1 Axes>"
      ]
     },
     "metadata": {
      "needs_background": "light"
     },
     "output_type": "display_data"
    },
    {
     "name": "stdout",
     "output_type": "stream",
     "text": [
      "The avarage accuracy is: 0.592\n",
      "\n",
      "######################################################################################################\n",
      "Context size 40\n",
      "\n",
      "1 time\n",
      "\n",
      "Accuracy: 0.6\n",
      "\n",
      "2 time\n",
      "\n",
      "Accuracy: 0.6\n",
      "\n",
      "3 time\n",
      "\n",
      "Accuracy: 0.62\n",
      "\n",
      "4 time\n",
      "\n",
      "Accuracy: 0.66\n",
      "\n",
      "5 time\n",
      "\n",
      "Accuracy: 0.66\n",
      "\n"
     ]
    },
    {
     "data": {
      "image/png": "[encoded data removed]",
      "text/plain": [
       "<Figure size 432x288 with 1 Axes>"
      ]
     },
     "metadata": {
      "needs_background": "light"
     },
     "output_type": "display_data"
    },
    {
     "name": "stdout",
     "output_type": "stream",
     "text": [
      "The avarage accuracy is: 0.628\n",
      "\n",
      "######################################################################################################\n"
     ]
    },
    {
     "data": {
      "image/png": "[encoded data removed]",
      "text/plain": [
       "<Figure size 432x288 with 1 Axes>"
      ]
     },
     "metadata": {
      "needs_background": "light"
     },
     "output_type": "display_data"
    }
   ],
   "source": [
    "################################################################################## Context size incrementing\n",
    "average_accuracy = []\n",
    "context_sizes = [5,10,15,25,40]\n",
    "print(\"Context size 5\\n\")\n",
    "average_accuracy.append(get_avarage_accuracy([corpus.product_reviews_2],target_words,5,printing = False))\n",
    "print(\"Context size 10\\n\")\n",
    "average_accuracy.append(get_avarage_accuracy([corpus.product_reviews_2],target_words,10,printing = False))\n",
    "print(\"Context size 15\\n\")\n",
    "average_accuracy.append(get_avarage_accuracy([corpus.product_reviews_2],target_words,15,printing = False))\n",
    "print(\"Context size 25\\n\")\n",
    "average_accuracy.append(get_avarage_accuracy([corpus.product_reviews_2],target_words,25,printing = False))\n",
    "print(\"Context size 40\\n\")\n",
    "average_accuracy.append(get_avarage_accuracy([corpus.product_reviews_2],target_words,40,printing = False))\n",
    "plt.plot(context_sizes,average_accuracy)\n",
    "plt.xlabel('Context size')\n",
    "plt.ylabel('Average accuracy')\n",
    "plt.title('Average accuracy for different context sizes')\n",
    "plt.show()"
   ]
  },
  {
   "cell_type": "markdown",
   "metadata": {},
   "source": [
    "#### Running the program on the Brown corpus with different features (stopword removal, stemming or different context size)."
   ]
  },
  {
   "cell_type": "markdown",
   "metadata": {},
   "source": [
    "##### No additional features applied."
   ]
  },
  {
   "cell_type": "code",
   "execution_count": 15,
   "metadata": {},
   "outputs": [
    {
     "name": "stdout",
     "output_type": "stream",
     "text": [
      "No stemming and no stopword removal\n",
      "\n",
      "1 time\n",
      "\n",
      "[ 2 48 41  5 33 44  2 20 16 14 45  2  2  6 44  0  2 31  4  7 21 32  2  5\n",
      " 23  5 44 35  2 46 38 49 15 30 28  5 40 11  2 22 24 19  5 34  1 18 48  2\n",
      " 27  2  2 48 41  5 33 44  2  3 16 14 25  2  2 26 44 39  2 31 42 37 21 13\n",
      "  2  5 23  5 44  8 44 12 38 49 36 43 28  5 29 11  2 22 17 19  5 10  9 47\n",
      "  5  2 27  2]\n",
      "Accuracy: 0.64\n",
      "\n",
      "2 time\n",
      "\n",
      "[31 21 43 21 33  1 31 26 18  5 16 31 31 44 21 42 31 39 35 14 20 38 31 21\n",
      " 30 21  1 49  1 45  7 19 13 32 25 21 27 48 31 28 41 36 47  3  2 24 21  1\n",
      " 22 31 31 21 43 21 33  1 31  4 18  5 16 31 31  8 21 15 31 39  6 40 20  0\n",
      " 31 21 30 21  1  9  1 11  7 19 23 29 46 47 34 17 31 28 12 36 47 37 10 24\n",
      " 21  1 22  1]\n",
      "Accuracy: 0.64\n",
      "\n",
      "3 time\n",
      "\n",
      "[42 49 38 35 24  0 42 18 41 11 15 42 42 14  0 26 42 28  2 30 39 10 42 35\n",
      " 20 35  0  9  0  5  4 28 27 22 29 12 32 16 42 21 33 37 12  8  1 23 35  0\n",
      " 25 42 42 49 38 35 24  0 42  3 41 11 15 42 42 34  0 36 42 28 44  6 39 46\n",
      " 42 35 20 35  0 40  0 47  4 28 13 22 43 12 17 16 42 21 19 37 12 31  7 45\n",
      " 35  0 48 42]\n",
      "Accuracy: 0.68\n",
      "\n",
      "4 time\n",
      "\n",
      "[ 5 48 44 42 30 14  5  3 40  6 12  5  5  7 14 38  5 33 19  8 29 18  5 42\n",
      " 26 42 14 39 14 11 34 20  2 24 22 20  4 15  5  9 32  0 20 41  1 46 42  5\n",
      " 47  5  5 48 44 42 30 14  5 25 40 36 12  5  5 35 14 21  5 33 45 37 29 18\n",
      "  5 42 26 14 14 16  5 28 34 20 31 49 22 20 43 15  5  9 13  0 20 27 10 23\n",
      " 42  5 17  5]\n",
      "Accuracy: 0.64\n",
      "\n",
      "5 time\n",
      "\n",
      "[ 3 47 45 10 32 41  3 16 21 46 17  3  3 36 41 40  3 31  9 12 24 48  3 10\n",
      " 28 10 41 35 41 29  4 31 25 18 27 10 37 23  3 30 42 43 31 34 11 38 10 41\n",
      "  1  3  3 47 45 10 32 41  3  6 21 15 39  3  3  7 10 26  3 31  9 33 24 13\n",
      "  3 10 28 10 41 14 41 19  4 31  5 44 27 10 20 49  3 30  8 43 10  0  2 22\n",
      " 10 41  1  3]\n",
      "Accuracy: 0.62\n",
      "\n"
     ]
    },
    {
     "data": {
      "image/png": "[encoded data removed]",
      "text/plain": [
       "<Figure size 432x288 with 1 Axes>"
      ]
     },
     "metadata": {
      "needs_background": "light"
     },
     "output_type": "display_data"
    },
    {
     "name": "stdout",
     "output_type": "stream",
     "text": [
      "The avarage accuracy is: 0.644\n",
      "\n",
      "######################################################################################################\n"
     ]
    }
   ],
   "source": [
    "################################################################################## No stopword and no stemming\n",
    "accuracy_list = []\n",
    "print(\"No stemming and no stopword removal\\n\")\n",
    "accuracy_list.append(get_avarage_accuracy([corpus.brown],target_words))"
   ]
  },
  {
   "cell_type": "markdown",
   "metadata": {},
   "source": [
    "##### Applying only stopword removal."
   ]
  },
  {
   "cell_type": "code",
   "execution_count": 16,
   "metadata": {},
   "outputs": [
    {
     "name": "stdout",
     "output_type": "stream",
     "text": [
      "Stopword removal only\n",
      "\n",
      "1 time\n",
      "\n",
      "[10 21 49  0 38 45 10 20 23 19 39 10 10 42 45 24 10 31 44  7 43 11 10  0\n",
      " 30  0 45  8 45 32  6 31 15 33 27  0 36 14 10  4 12 46 31  2  9 26  0 45\n",
      " 17 10 10 21 49  0 38 45 10  3 23 19 16 10 10  5  0 48 10 31 22 25 28 34\n",
      " 10  0 47  0 45 41 45 13  6 31 40 18 27  0 29 14 10  4 37 46 31 35  1 26\n",
      "  0 45 17 10]\n",
      "Accuracy: 0.64\n",
      "\n",
      "2 time\n",
      "\n",
      "[ 9 44 34  1 21 44  9 27 41 22 23  9  9 19 44 24  9 49 47  8 33 39  9  1\n",
      " 17  1 44 40 48  7 13 31 12 20 25  1 32 10  9 18 16 30 31 37  3 26  1 48\n",
      " 36  9  9 31 34  1 21 44  9  0 41 22 15  9  9 42 44 43  9 49  5 29 33  6\n",
      "  9  1 17  1 44  2 48 28 13 31 35 46 25  1 45 10  9 18 38 30  1  4 11 26\n",
      "  1 48 14  9]\n",
      "Accuracy: 0.64\n",
      "\n",
      "3 time\n",
      "\n",
      "[ 6 46 38 23  2 42  6  9 29 24 45  6  6 35 42 26  6 47 43 31 28  0  6 23\n",
      " 25 23 42 13 42 14 30  5 12 49 21  5  4 19  6  7 17 36  5 33 11 18 23 42\n",
      " 48  6  6 46 38 23  2 42  6  3 29 24 15  6  6  8 23 39  6 47 27 10 28 44\n",
      "  6 23 25 23 42 34 42 32 30  5 40 16 21  5 41 19  6  7 37 36  5 20  1 18\n",
      " 23 42 22  6]\n",
      "Accuracy: 0.66\n",
      "\n",
      "4 time\n",
      "\n",
      "[ 0  4 37 17 40 38  0 27 20 11 18  0  0  5 17 23  0 46 41 35 25 14  0 17\n",
      " 34 17 38 45 38 33 29 32  8 49 26 32 24 12  0  2 15 42 32 43  1 16 17 38\n",
      " 19  0  0  4 37 17 40 38  0  3 20 11 47  0  0 30 38 39  0 46 31  9 25 14\n",
      "  0 17 34 17 38  7 38 13 29 32 28 21 26 17 24 12  0 22 36 42 32  6 10 44\n",
      " 17 38 48  0]\n",
      "Accuracy: 0.64\n",
      "\n",
      "5 time\n",
      "\n",
      "[31 30 48 30 29  0 31  3 16 18 45 31 31 38  0 32 31 49  2 35 28 44 31 30\n",
      " 46  0  0 41 15 34 37  5 33 23 24 30 26  8 31 20 17 42  5 11  1 40 30 15\n",
      " 21 31 31 30 48 30 29  0 31 27 16 18 12 31 31 10  0 22 31 49 47  7 28 14\n",
      " 31 30 25 30  0 13 15  4 37  5  6 23 24  5 43  8 31 20 39 42  5 36  9 19\n",
      " 30 15 21 31]\n",
      "Accuracy: 0.64\n",
      "\n"
     ]
    },
    {
     "data": {
      "image/png": "[encoded data removed]",
      "text/plain": [
       "<Figure size 432x288 with 1 Axes>"
      ]
     },
     "metadata": {
      "needs_background": "light"
     },
     "output_type": "display_data"
    },
    {
     "name": "stdout",
     "output_type": "stream",
     "text": [
      "The avarage accuracy is: 0.644\n",
      "\n",
      "######################################################################################################\n"
     ]
    }
   ],
   "source": [
    "################################################################################## Stopword and no stemming\n",
    "print(\"Stopword removal only\\n\")\n",
    "accuracy_list.append(get_avarage_accuracy([corpus.brown],target_words,remove_stopwords = True))"
   ]
  },
  {
   "cell_type": "markdown",
   "metadata": {},
   "source": [
    "##### Applying only stemming."
   ]
  },
  {
   "cell_type": "code",
   "execution_count": 17,
   "metadata": {},
   "outputs": [
    {
     "name": "stdout",
     "output_type": "stream",
     "text": [
      "Stemming only\n",
      "\n",
      "1 time\n",
      "\n",
      "[28 23 49 23 21  2 28  5 13 22 16 28 28 12  2 24 28 26 31 39  0 17 28 23\n",
      " 15 44  2 20  2 36 43  9  7 41  6 27  4  8 28 11 18 45 23 30 14 34 23  2\n",
      " 25 28 28 23 49 23 21  2 28 32 40 22 16 28 28 46  2 24 28 26 31 10 47 17\n",
      " 28 23 35 38  2 29  2  3 43  9 33 19  6 27 37 48 28 11 42 45 23 30  1 34\n",
      " 23  2 25 28]\n",
      "Accuracy: 0.7\n",
      "\n",
      "2 time\n",
      "\n",
      "[17 48 47 34  8  3 17  5 37  9 39 17 17  6  3  0 17 35 13 43 28 21 17 48\n",
      " 29 27  3 45  3 14 36 22  7  4 31 23 18 49 17 42  2 15 48 44  1 40 48  3\n",
      " 26 17 17 48 47 34  8  3 17 33 24  9 11 17 17  6  3  0 17 35 13 25 28 21\n",
      " 17 48 19 27  3 10  3 46 36 22 30 38 31 23 18 12 17 32 41 15 48 20 16 40\n",
      " 48  3 26 17]\n",
      "Accuracy: 0.72\n",
      "\n",
      "3 time\n",
      "\n",
      "[28 25 48 25 13  1 28 35 20  8 10 28 28 18  1 29 28 27 32 17  3 12 28 25\n",
      " 15 33  1 19  1  5 34 49  9 21 23 22  7 36 28 26  0  6 25 16  2 30 25  1\n",
      " 24 28 28 25 48 25 13  1 28  4 31  8 39 28 28 46  1 29 28 27 32 44  3 12\n",
      " 28 25 41 33  1 19  1 40 34 49 37 42 23 47 38 11 28 26 43  6 25 45 14 30\n",
      " 25  1 24 28]\n",
      "Accuracy: 0.7\n",
      "\n",
      "4 time\n",
      "\n",
      "[ 8 47 35  1 18 32  8  5 16 24 14  8  8 49 32 22  8 25 36 45 10 11  8 47\n",
      " 39 34 32 40 32 33 37 23  9 42  4 31 26 48  8 15 46 41 47 27 13 20 47 32\n",
      " 28  8  8 47 35  1 18 32  8 29 43 24 38  8  8 21 32 22  8 25 36 17 10 11\n",
      "  8 47  0 34 32 19 32 12 37 23 30  6  4 31 26  7  8 15  3 41 47 44  2 20\n",
      " 47 32 28  8]\n",
      "Accuracy: 0.72\n",
      "\n",
      "5 time\n",
      "\n",
      "[18 25  0 25  6  0 18 32 21 20 22 18 18  8  0 30 18 26 16 42 31 19 18 25\n",
      "  1 23  0 17  0 39 33 13 11 24  3 34 14 47 18  4  7 40 25 43 10 41 25  0\n",
      " 28 18 18 25  0 25  6  0 18  5 35 20 38 18 18 45 25 30 18 26 16 15 31 19\n",
      " 18 25 37 23  0 46  0  9 33 13 27 48  3 34 44 12 18 49 36 40 25 29  2 41\n",
      " 25  0 28 18]\n",
      "Accuracy: 0.66\n",
      "\n"
     ]
    },
    {
     "data": {
      "image/png": "[encoded data removed]",
      "text/plain": [
       "<Figure size 432x288 with 1 Axes>"
      ]
     },
     "metadata": {
      "needs_background": "light"
     },
     "output_type": "display_data"
    },
    {
     "name": "stdout",
     "output_type": "stream",
     "text": [
      "The avarage accuracy is: 0.7\n",
      "\n",
      "######################################################################################################\n"
     ]
    }
   ],
   "source": [
    "################################################################################## No stopword but stemming\n",
    "print(\"Stemming only\\n\")\n",
    "accuracy_list.append(get_avarage_accuracy([corpus.brown],target_words,stemming = True))"
   ]
  },
  {
   "cell_type": "markdown",
   "metadata": {},
   "source": [
    "##### Applying both stopword removal and stemming."
   ]
  },
  {
   "cell_type": "code",
   "execution_count": 18,
   "metadata": {},
   "outputs": [
    {
     "name": "stdout",
     "output_type": "stream",
     "text": [
      "Stemming and Stopword removal\n",
      "\n",
      "1 time\n",
      "\n",
      "[43 15 44 15 21  0 43 37 31 16 47 43 43  8  0 34 43 27 20  9  3 24 43 15\n",
      " 30 29  0 12  0 35  7 26 38 18 36 28 22 13 43 17 41 48 15 40  2 33 15  0\n",
      " 19 43 43 15 44 15 21  0 43  6 11 16 10 43 43 49  0 34 43 27 20 45  3 24\n",
      " 43 15 25 29  0 46  0 14  7 26  4 32 36 28 39 42 43 17  5 48 15  1 23 33\n",
      " 15  0 19 43]\n",
      "Accuracy: 0.7\n",
      "\n",
      "2 time\n",
      "\n",
      "[39 14 46 14 32  0 39 29 24 20 49 39 39 15  0 22 39 34 26 31 27  7 39 14\n",
      " 11  3  0 43  0 48  6 38 44 18 41 25 23 45 39 28 10 14 14 36  2 33 46  0\n",
      " 16 39 39 14 46 14 32  0 39  4 19 20 12 39 39 15  0 22 39 34 26 13 27  7\n",
      " 39 14 37  3  0  8  0  9  6 38  5 40 42 25 47 21 39 30 35 14 14  1 17 33\n",
      " 14  0 16 39]\n",
      "Accuracy: 0.66\n",
      "\n",
      "3 time\n",
      "\n",
      "[ 2 13 29 13 31 29  2  5 15 24 20  2  2 21 29 30  2  4 11  6 34  0  2 13\n",
      " 33 26 29 16 29 47  9 38 32 35 25 27 49 40  2 48 19 44 13 41  1 37 13 29\n",
      " 22  2  2 13 29 13 31 29  2 28 39 24 43  2  2 42 29 30  2  4 11 36 34  0\n",
      "  2 13 10 26 29 45 29 12  9 38  7 23 25 27  3  8  2 17 46 44 13 18 14 37\n",
      " 13 29 22  2]\n",
      "Accuracy: 0.68\n",
      "\n",
      "4 time\n",
      "\n",
      "[ 9 15  2 15 19 28  9  6  7 24 17  9  9 11 28 30  9 22 31 12 47 29  9 28\n",
      " 43 37 28 46 28 14 45 35  4 18  3 25  8 36  9 34 33 48 15 40  1  5 15 28\n",
      " 27  9  9 15  2 15 19 28  9 38 32 24 17  9  9 11 28 30  9 22 31 12 23 29\n",
      "  9 15 10 49 28 16 28 14 45 35 39 44 42 25 41 13  9  0 21 48 15 26 20  5\n",
      " 28  9 27  9]\n",
      "Accuracy: 0.64\n",
      "\n",
      "5 time\n",
      "\n",
      "[ 6  0 47  0 18 23  6 26 39 38 14  6  6 19 23 33  6 29 32 48 12  7  6  0\n",
      " 41 35 23 16 23 42 34 21  8 44  3 45 22 49  6  5 40 46  0 43  9 30  0 23\n",
      " 28  6  6  0 47  0 18 23  6  4  1 20 36  6  6 19 23 33  6 29 32 11 12  7\n",
      "  6  0 15 35 23 31 23 10 34 21 37 27  3 25 22 13  6  5 17 46  0 24  2 30\n",
      "  0 23 28  6]\n",
      "Accuracy: 0.7\n",
      "\n"
     ]
    },
    {
     "data": {
      "image/png": "[encoded data removed]",
      "text/plain": [
       "<Figure size 432x288 with 1 Axes>"
      ]
     },
     "metadata": {
      "needs_background": "light"
     },
     "output_type": "display_data"
    },
    {
     "name": "stdout",
     "output_type": "stream",
     "text": [
      "The avarage accuracy is: 0.6759999999999999\n",
      "\n",
      "######################################################################################################\n"
     ]
    }
   ],
   "source": [
    "################################################################################## Stopword and stemming\n",
    "print(\"Stemming and Stopword removal\\n\")\n",
    "accuracy_list.append(get_avarage_accuracy([corpus.brown],target_words,remove_stopwords = True, stemming = True))"
   ]
  },
  {
   "cell_type": "markdown",
   "metadata": {},
   "source": [
    "###### Visualizing the accuracy change"
   ]
  },
  {
   "cell_type": "code",
   "execution_count": 19,
   "metadata": {},
   "outputs": [
    {
     "data": {
      "image/png": "[encoded data removed]",
      "text/plain": [
       "<Figure size 432x288 with 1 Axes>"
      ]
     },
     "metadata": {
      "needs_background": "light"
     },
     "output_type": "display_data"
    }
   ],
   "source": [
    "plt.plot(stem_stopword,accuracy_list)\n",
    "plt.xlabel('Features')\n",
    "plt.ylabel('Accuracy')\n",
    "plt.title('Accuracy for given feature')\n",
    "plt.show()"
   ]
  },
  {
   "cell_type": "markdown",
   "metadata": {},
   "source": [
    "##### Displaying the average accuracy when the context size is increased"
   ]
  },
  {
   "cell_type": "code",
   "execution_count": 20,
   "metadata": {},
   "outputs": [
    {
     "name": "stdout",
     "output_type": "stream",
     "text": [
      "Context size 5\n",
      "\n",
      "1 time\n",
      "\n",
      "Accuracy: 0.66\n",
      "\n",
      "2 time\n",
      "\n",
      "Accuracy: 0.62\n",
      "\n",
      "3 time\n",
      "\n",
      "Accuracy: 0.64\n",
      "\n",
      "4 time\n",
      "\n",
      "Accuracy: 0.6\n",
      "\n",
      "5 time\n",
      "\n",
      "Accuracy: 0.62\n",
      "\n"
     ]
    },
    {
     "data": {
      "image/png": "[encoded data removed]",
      "text/plain": [
       "<Figure size 432x288 with 1 Axes>"
      ]
     },
     "metadata": {
      "needs_background": "light"
     },
     "output_type": "display_data"
    },
    {
     "name": "stdout",
     "output_type": "stream",
     "text": [
      "The avarage accuracy is: 0.628\n",
      "\n",
      "######################################################################################################\n",
      "Context size 10\n",
      "\n",
      "1 time\n",
      "\n",
      "Accuracy: 0.72\n",
      "\n",
      "2 time\n",
      "\n",
      "Accuracy: 0.68\n",
      "\n",
      "3 time\n",
      "\n",
      "Accuracy: 0.66\n",
      "\n",
      "4 time\n",
      "\n",
      "Accuracy: 0.74\n",
      "\n",
      "5 time\n",
      "\n",
      "Accuracy: 0.72\n",
      "\n"
     ]
    },
    {
     "data": {
      "image/png": "[encoded data removed]",
      "text/plain": [
       "<Figure size 432x288 with 1 Axes>"
      ]
     },
     "metadata": {
      "needs_background": "light"
     },
     "output_type": "display_data"
    },
    {
     "name": "stdout",
     "output_type": "stream",
     "text": [
      "The avarage accuracy is: 0.704\n",
      "\n",
      "######################################################################################################\n",
      "Context size 15\n",
      "\n",
      "1 time\n",
      "\n",
      "Accuracy: 0.74\n",
      "\n",
      "2 time\n",
      "\n",
      "Accuracy: 0.72\n",
      "\n",
      "3 time\n",
      "\n",
      "Accuracy: 0.74\n",
      "\n",
      "4 time\n",
      "\n",
      "Accuracy: 0.74\n",
      "\n",
      "5 time\n",
      "\n",
      "Accuracy: 0.7\n",
      "\n"
     ]
    },
    {
     "data": {
      "image/png": "[encoded data removed]",
      "text/plain": [
       "<Figure size 432x288 with 1 Axes>"
      ]
     },
     "metadata": {
      "needs_background": "light"
     },
     "output_type": "display_data"
    },
    {
     "name": "stdout",
     "output_type": "stream",
     "text": [
      "The avarage accuracy is: 0.7280000000000001\n",
      "\n",
      "######################################################################################################\n",
      "Context size 25\n",
      "\n",
      "1 time\n",
      "\n",
      "Accuracy: 0.8\n",
      "\n",
      "2 time\n",
      "\n",
      "Accuracy: 0.8\n",
      "\n",
      "3 time\n",
      "\n",
      "Accuracy: 0.82\n",
      "\n",
      "4 time\n",
      "\n",
      "Accuracy: 0.8\n",
      "\n",
      "5 time\n",
      "\n",
      "Accuracy: 0.8\n",
      "\n"
     ]
    },
    {
     "data": {
      "image/png": "[encoded data removed]",
      "text/plain": [
       "<Figure size 432x288 with 1 Axes>"
      ]
     },
     "metadata": {
      "needs_background": "light"
     },
     "output_type": "display_data"
    },
    {
     "name": "stdout",
     "output_type": "stream",
     "text": [
      "The avarage accuracy is: 0.8039999999999999\n",
      "\n",
      "######################################################################################################\n",
      "Context size 40\n",
      "\n",
      "1 time\n",
      "\n",
      "Accuracy: 0.84\n",
      "\n",
      "2 time\n",
      "\n",
      "Accuracy: 0.84\n",
      "\n",
      "3 time\n",
      "\n",
      "Accuracy: 0.86\n",
      "\n",
      "4 time\n",
      "\n",
      "Accuracy: 0.86\n",
      "\n",
      "5 time\n",
      "\n",
      "Accuracy: 0.84\n",
      "\n"
     ]
    },
    {
     "data": {
      "image/png": "[encoded data removed]",
      "text/plain": [
       "<Figure size 432x288 with 1 Axes>"
      ]
     },
     "metadata": {
      "needs_background": "light"
     },
     "output_type": "display_data"
    },
    {
     "name": "stdout",
     "output_type": "stream",
     "text": [
      "The avarage accuracy is: 0.8480000000000001\n",
      "\n",
      "######################################################################################################\n"
     ]
    },
    {
     "data": {
      "image/png": "[encoded data removed]",
      "text/plain": [
       "<Figure size 432x288 with 1 Axes>"
      ]
     },
     "metadata": {
      "needs_background": "light"
     },
     "output_type": "display_data"
    }
   ],
   "source": [
    "################################################################################## Context size incrementing\n",
    "average_accuracy = []\n",
    "print(\"Context size 5\\n\")\n",
    "average_accuracy.append(get_avarage_accuracy([corpus.brown],target_words,5,printing = False))\n",
    "print(\"Context size 10\\n\")\n",
    "average_accuracy.append(get_avarage_accuracy([corpus.brown],target_words,10,printing = False))\n",
    "print(\"Context size 15\\n\")\n",
    "average_accuracy.append(get_avarage_accuracy([corpus.brown],target_words,15,printing = False))\n",
    "print(\"Context size 25\\n\")\n",
    "average_accuracy.append(get_avarage_accuracy([corpus.brown],target_words,25,printing = False))\n",
    "print(\"Context size 40\\n\")\n",
    "average_accuracy.append(get_avarage_accuracy([corpus.brown],target_words,40,printing = False))\n",
    "plt.plot(context_sizes,average_accuracy)\n",
    "plt.xlabel('Context size')\n",
    "plt.ylabel('Average accuracy')\n",
    "plt.title('Average accuracy for different context sizes')\n",
    "plt.show()"
   ]
  },
  {
   "cell_type": "markdown",
   "metadata": {},
   "source": [
    "#### Running the program on the combined corpus (Product reviews corpus and the Brown corpus) with different features (stopword removal, stemming or different context size)."
   ]
  },
  {
   "cell_type": "code",
   "execution_count": 21,
   "metadata": {},
   "outputs": [],
   "source": [
    "combined_corpora = [corpus.product_reviews_2,corpus.brown]"
   ]
  },
  {
   "cell_type": "markdown",
   "metadata": {},
   "source": [
    "##### No additional features applied."
   ]
  },
  {
   "cell_type": "code",
   "execution_count": 22,
   "metadata": {},
   "outputs": [
    {
     "name": "stdout",
     "output_type": "stream",
     "text": [
      "No stemming and no stopword removal\n",
      "\n",
      "1 time\n",
      "\n",
      "[ 7 36 34 21 48 31  7  3 33 17 13  7 32 37 31 46  7 49  4 40 25 42  7 21\n",
      " 24 21 31 14 31 43 39  5  9 47 19 18 28 22  7 30 35 45  5 38  1 27 18 31\n",
      " 16  7  7 36 34 21 48 31  7 23 33 17 13  7 32 12 31 26  7 49 44 10 25  0\n",
      "  7 21 24 21 31 41 31 11 39  5 29 20 19 18 28 22  7 30 15 45  5  6  8 27\n",
      "  2 31 16  7]\n",
      "Accuracy: 0.72\n",
      "\n",
      "2 time\n",
      "\n",
      "[17 31 40 24 20  0 17  3 27  9 38 17 37 47  0 29 17 41 21 13  5  6 17 24\n",
      " 32  0  0  2  0 16 26 30 12 44 15 48 43 23 17 33 36 22 30 39  1 49 11  0\n",
      " 19 17 17 31 40 24 20  0 17 28 27  9 18 17 37  7  0 29 17 41 21 42  5  6\n",
      " 17 24 32  0  0 46  0 35 26 30 45 14 15 48 34 23 17 33  8 22 30  4 10 25\n",
      " 11  0 19 17]\n",
      "Accuracy: 0.74\n",
      "\n",
      "3 time\n",
      "\n",
      "[11 17 47 48 17 34 11 22 29 21 38 11 37  5 34  7 11  9 18  4 32 36 11 48\n",
      "  3 34 34  8 34 25 27  0 44 20 12 40  2 15 11 30 24 26  0 28 16 31 41 34\n",
      " 23 11 11 17 47 48 17 34 11  6 29 21 14 11 37 33 34  7 11  9 18 35 32 10\n",
      " 11 48 49 34 34 45 34 19 27  0 13 46 12 40 42 15 11 30 39 26  0 43  1 31\n",
      " 41 34 23 11]\n",
      "Accuracy: 0.72\n",
      "\n",
      "4 time\n",
      "\n",
      "[ 9 25 47  2 42 44  9  4 34 22 30  9 33  6 44 48  9 40 31  3 17 14  9  2\n",
      " 38  2 44 16 44 29 32 40 39  0 12 45 35 20  9 21 11 23  2  8 15 27  7 44\n",
      " 18  9  9 25 47  2 42 44  9 24 34 22 19  9 33 37 44  5  9 40 46 36 17 14\n",
      "  9  2 38  2 44 43 44 10 32  2 13  0 12 23 26 20  9 21 41 23  2 28  1 27\n",
      "  7 44 49  9]\n",
      "Accuracy: 0.68\n",
      "\n",
      "5 time\n",
      "\n",
      "[12 44 42 23 30 40 12  5 29 20 14 12 27 36 40  4 12 10 16 32 37 13 12 23\n",
      " 39 23 40 11  3 43 35 46 33 19 24 38 45 18 12 31 17 34 46 41  1 26  0 40\n",
      " 21 12 12 44 42 23 30 40 12 25 29 20 48 12 27  6 40  4 12 10 16  8 37 13\n",
      " 12 23 39 40 40 47  3 15 35 46  9 49 24 38 22 18 12 31 28 34 46  2  7 26\n",
      "  0  3 21 12]\n",
      "Accuracy: 0.72\n",
      "\n"
     ]
    },
    {
     "data": {
      "image/png": "[encoded data removed]",
      "text/plain": [
       "<Figure size 432x288 with 1 Axes>"
      ]
     },
     "metadata": {
      "needs_background": "light"
     },
     "output_type": "display_data"
    },
    {
     "name": "stdout",
     "output_type": "stream",
     "text": [
      "The avarage accuracy is: 0.716\n",
      "\n",
      "######################################################################################################\n"
     ]
    }
   ],
   "source": [
    "################################################################################## No stopword and no stemming\n",
    "accuracy_list = []\n",
    "print(\"No stemming and no stopword removal\\n\")\n",
    "accuracy_list.append(get_avarage_accuracy(combined_corpora,target_words))"
   ]
  },
  {
   "cell_type": "markdown",
   "metadata": {},
   "source": [
    "##### Applying only stopword removal."
   ]
  },
  {
   "cell_type": "code",
   "execution_count": 23,
   "metadata": {},
   "outputs": [
    {
     "name": "stdout",
     "output_type": "stream",
     "text": [
      "Stopword removal only\n",
      "\n",
      "1 time\n",
      "\n",
      "[ 0 21 36 12 32 46  0 24 30  9 49  0 37  6 46 16  0 28 25 33  4 45  0 12\n",
      " 26 46 46 39 46 34 31 47 35 22 19 41 38 20  0 17  2  5 47  8  1 27 42 46\n",
      " 23  0  0 21 36 12 32 46  0  3 30  9 18  0 37 48 46 16  0 28 25 14  4 10\n",
      "  0 12 43 12 46  7 46 15 31 47 13 22 19 41 29 20  0 17 44  5 46 40 11 27\n",
      " 42 46 23  0]\n",
      "Accuracy: 0.7\n",
      "\n",
      "2 time\n",
      "\n",
      "[ 4 20 24  0 39 34  4  3 38 23 49  4 35 32 34 48  4 27 25 30 28 47  4  0\n",
      " 26 34 34 10 34 43 17  0 13 21  9 41  2 12  4 36 16 45  0 44  6 18 37 34\n",
      " 19  4  4 20 24  0 39 34  4 22 38 23 15  4 35 14 34  5  4 27 33 11 28  7\n",
      "  4  0 26 34 34 10 34  8 17  0 31 40  9 41 46 12  4 36 42 45  0 29  1 18\n",
      " 37 34 19  4]\n",
      "Accuracy: 0.72\n",
      "\n",
      "3 time\n",
      "\n",
      "[ 6  3 38 17 41 36  6  4 28 22 11  6 30 12 36 25  6 33 21 29 18 16  6 17\n",
      " 23 36 36  2 36 14 39 47 31 44 19 35 46 20  6  8  9 32 47  5 10 49 43 36\n",
      "  0  6  6  3 38 17 41 36  6 27 28 22 11  6 30 37 36 25  6 33 21  7 18 42\n",
      "  6 17 23 36 36 34 36 45 39 47 13 26 19 35 24 20  6  8 40 32 47 48  1 15\n",
      " 43 36  0  6]\n",
      "Accuracy: 0.74\n",
      "\n",
      "4 time\n",
      "\n",
      "[22 49 41  2 10  8 22  3 33 19 14 22 45 36  8 42 22 40 25  7 26 13 22  2\n",
      " 32  8  8 47  8 12 17 40  9 24 31 39 37 16 22  0 15 35 40  4  1 20 23  8\n",
      " 27 22 22 49 41  2 10  8 22 30 33 19 43 22 45  5  8 18 22 40 25 28 26 13\n",
      " 22  2 32  8  8 11  8 29 17 40 46 38 31 39 21 48 22  0 44 35 40 34  6 20\n",
      " 23  8 27 22]\n",
      "Accuracy: 0.72\n",
      "\n",
      "5 time\n",
      "\n",
      "[ 0  6 35 11 40 42  0  3 29 20 45  0 28 41 42 22  0 32 25  9 26 47  0 11\n",
      " 37 42 42 13 42 36 38 11  5 48  4 39 43 17  0 21 15 24 11 31  1 14 18 42\n",
      " 23  0  0  6 35 11 40 42  0 27 29 20 19  0 28 16 42 22  0 32 25 34 26  8\n",
      "  0 11 37 42 42 49 42  7 38 32 30  2  4 39 12 44  0 21 46 24 11 33 10 14\n",
      " 18 42 23  0]\n",
      "Accuracy: 0.7\n",
      "\n"
     ]
    },
    {
     "data": {
      "image/png": "[encoded data removed]",
      "text/plain": [
       "<Figure size 432x288 with 1 Axes>"
      ]
     },
     "metadata": {
      "needs_background": "light"
     },
     "output_type": "display_data"
    },
    {
     "name": "stdout",
     "output_type": "stream",
     "text": [
      "The avarage accuracy is: 0.716\n",
      "\n",
      "######################################################################################################\n"
     ]
    }
   ],
   "source": [
    "################################################################################## Stopword and no stemming\n",
    "print(\"Stopword removal only\\n\")\n",
    "accuracy_list.append(get_avarage_accuracy(combined_corpora,target_words,remove_stopwords = True))"
   ]
  },
  {
   "cell_type": "markdown",
   "metadata": {},
   "source": [
    "##### Applying only stemming."
   ]
  },
  {
   "cell_type": "code",
   "execution_count": 24,
   "metadata": {},
   "outputs": [
    {
     "name": "stdout",
     "output_type": "stream",
     "text": [
      "Stemming only\n",
      "\n",
      "1 time\n",
      "\n",
      "[ 7 21 41 21 31 35  7 34 16 23 11  7 41  0 35 24  7 27  5 45 30 20  7  1\n",
      " 36 29 35 18 35  9 32 49 10 44 26 47 43  6  7 22 39 42  1 28 12 14 21 35\n",
      " 25  7  7 21 41  1 31 35  7  4 33 23 11  7 41 48 35 24  7 27  5  8 30 20\n",
      "  7  1 17 29 35 18 35 37 32 49 38 13 26 15  3 40  7 22 19 42  1 46  2 14\n",
      " 21 35 25  7]\n",
      "Accuracy: 0.7\n",
      "\n",
      "2 time\n",
      "\n",
      "[17  8 31  8 23  1 17 40  3 24 20 17 31 11  1 49 17 32 26 15  5 14 17  8\n",
      " 35 33  1  9  1 30 34 41  7 19  0 22 38 13 17 39 21 45  1 29  2 28 48  1\n",
      " 27 17 17  8 31  8 23  1 17  6 37 24 20 17  8 11  1 25 17 32 26 15  5 14\n",
      " 17  8  4 33  1 44  1 16 34 41 43 46  0 36 10 42 17 12 47 45 41 29 18 28\n",
      " 48  1 27 17]\n",
      "Accuracy: 0.68\n",
      "\n",
      "3 time\n",
      "\n",
      "[ 3 17 45 27 19 36  3  5 43 10 20  3 27 16 36 23  3 39 24 21 11 25  3 27\n",
      " 12 41 36 14 36 46  1 48  8 38  4 13 47  9  3  7  0 49 27 28  2 33 42 36\n",
      " 30  3  3 17 45 27 19 36  3 34 26 10 44  3 27 16 36 23  3 39 24 40 11 25\n",
      "  3 27 31 41 36 14 36 15  1 48 35  6  4 32 29  9  3  7 37 49 27 22 18 33\n",
      " 42 36 30  3]\n",
      "Accuracy: 0.74\n",
      "\n",
      "4 time\n",
      "\n",
      "[22 26 41 26 25  2 22 28 36 19 47 22 44  9  2 31 22 27 39 38  6 23 22 26\n",
      " 35 37  2 10  2 48 45 32 34 40  0 20 21 12 22 24 33 46 26  3  1 30  8  2\n",
      " 29 22 22 26 41 26 25  2 22  4  7 19 13 22 44  9  2 31 22 27 39  5  6 23\n",
      " 22 26 17 37  2 43  2 14 45 32 11 15  0 42 49 12 22 24 16 46 26  3 18 30\n",
      "  8  2 29 22]\n",
      "Accuracy: 0.74\n",
      "\n",
      "5 time\n",
      "\n",
      "[31 34  0 33 23  8 31 25 37 44 48 31 42 13  8 35 31 24 30 17  6 20 31 33\n",
      " 47 32  8  1  8 12 43 27 10 19  3 22 29  7 31 26 21 34 33  4  2 28  9  8\n",
      " 36 31 31 34  0 33 23  8 31  5 11 14 15 31 42 13  8 35 31 24 30 17  6 20\n",
      " 31 33 16 32  8  1  8 41 43 27 38 40  3 49 39  7 31 26 46 34 33 45 18 28\n",
      "  9  8 36 31]\n",
      "Accuracy: 0.74\n",
      "\n"
     ]
    },
    {
     "data": {
      "image/png": "[encoded data removed]",
      "text/plain": [
       "<Figure size 432x288 with 1 Axes>"
      ]
     },
     "metadata": {
      "needs_background": "light"
     },
     "output_type": "display_data"
    },
    {
     "name": "stdout",
     "output_type": "stream",
     "text": [
      "The avarage accuracy is: 0.7200000000000001\n",
      "\n",
      "######################################################################################################\n"
     ]
    }
   ],
   "source": [
    "################################################################################## No stopword but stemming\n",
    "print(\"Stemming only\\n\")\n",
    "accuracy_list.append(get_avarage_accuracy(combined_corpora,target_words,stemming = True))"
   ]
  },
  {
   "cell_type": "markdown",
   "metadata": {},
   "source": [
    "##### Applying both stopword removal and stemming."
   ]
  },
  {
   "cell_type": "code",
   "execution_count": 25,
   "metadata": {},
   "outputs": [
    {
     "name": "stdout",
     "output_type": "stream",
     "text": [
      "Stemming and Stopword removal\n",
      "\n",
      "1 time\n",
      "\n",
      "[ 6 14  0 43 31 28  6  4 10 29 41  6  0  5 28 30  6 21 22 47 38 25  6 43\n",
      " 20 34 28 15 28 44 35 40  9 32  7 37  1  8  6 39 19 49 43 18  2  3 14 28\n",
      " 26  6  6 14  0 43 31 28  6 33 36 46 12  6 14  5 28 30  6 21 22 11 38 25\n",
      "  6 43 45 34 28 48 28 13 35 40 27 16  7 24 42  8  6 23 19 49 43 18 17  3\n",
      " 14 28 26  6]\n",
      "Accuracy: 0.7\n",
      "\n",
      "2 time\n",
      "\n",
      "[ 4 11 45 31 22 48  4  3 34  7 23  4 45 25 48 19  4 36 15 49 30  5  4 31\n",
      " 43 35 48 14 48 16 32  0 44 40  8 37 38 12  4  6  2 46 31 10 20 28 42 48\n",
      " 29  4  4 11 45 11 22 48  4 27 24  7 23  4 45 25 48 19  4 36 15 21 30  5\n",
      "  4 31 17 35 48 14 48 41 32  0  9 13  8 18 26 12  4 39 47 46 31 33  1 28\n",
      " 42 48 29  4]\n",
      "Accuracy: 0.72\n",
      "\n",
      "3 time\n",
      "\n",
      "[26  7 36  7 28  2 26  5 31 17 34 26 39  6  2 25 26 16 35 48  0 22 26 42\n",
      " 44 24  2 18  2 10 37 49 40 15 30 19 41  8 26 47  3 43 42 46 20 33  7  2\n",
      " 23 26 26  7 36  7 28  2 26 27 21 17 13 26 39  6  2 25 26 16 35 11  0 22\n",
      " 26 42 14 24  2 18 42 10 37 49  9 38 30 19  4 45 26 12 32 43 42 29  1 33\n",
      "  7  2 23 26]\n",
      "Accuracy: 0.72\n",
      "\n",
      "4 time\n",
      "\n",
      "[ 6 24 40 24 17 18  6  3 20  7 19  6 49  8 18 21  6 28  4 22 27 23  6 24\n",
      " 36 32 18 15 18 46 30 42 10 14 31  5 26 48  6 29 41 33 24 43 13 38  0 18\n",
      " 25  6  6 24 40 24 17 18  6 35 47  7 19  6 49  8 18 21  6 28  4 39 27 23\n",
      "  6 24 16 32 18 44 18 11 30 42 34 14 31 37 45  9  6 29 12 33 24  2  1 38\n",
      "  0 18 25  6]\n",
      "Accuracy: 0.74\n",
      "\n",
      "5 time\n",
      "\n",
      "[ 8 26  1 26 19 48  8 34 39 21  9  8 35 18 48 31  8 29  4 13 36 10  8 44\n",
      "  3 28 48 43 48 15 47 42  5 23 27 46 33 14  8 22 20 11 44 41 17 25 11 48\n",
      " 24  8  8 26  1 26 19 48  8  6  0 21 40  8 35 49 48 31  8 29  4 13 36 10\n",
      "  8 44 38 28 48 16 48 15 47 42 37 32 27 12  7 45  8 22 20 11 44 30  2 25\n",
      " 26 48 24  8]\n",
      "Accuracy: 0.72\n",
      "\n"
     ]
    },
    {
     "data": {
      "image/png": "[encoded data removed]",
      "text/plain": [
       "<Figure size 432x288 with 1 Axes>"
      ]
     },
     "metadata": {
      "needs_background": "light"
     },
     "output_type": "display_data"
    },
    {
     "name": "stdout",
     "output_type": "stream",
     "text": [
      "The avarage accuracy is: 0.72\n",
      "\n",
      "######################################################################################################\n"
     ]
    }
   ],
   "source": [
    "################################################################################## Stopword and stemming\n",
    "print(\"Stemming and Stopword removal\\n\")\n",
    "accuracy_list.append(get_avarage_accuracy(combined_corpora,target_words,remove_stopwords = True, stemming = True))"
   ]
  },
  {
   "cell_type": "markdown",
   "metadata": {},
   "source": [
    "###### Visualizing the accuracy change"
   ]
  },
  {
   "cell_type": "code",
   "execution_count": 26,
   "metadata": {},
   "outputs": [
    {
     "data": {
      "image/png": "[encoded data removed]",
      "text/plain": [
       "<Figure size 432x288 with 1 Axes>"
      ]
     },
     "metadata": {
      "needs_background": "light"
     },
     "output_type": "display_data"
    }
   ],
   "source": [
    "plt.plot(stem_stopword,accuracy_list)\n",
    "plt.xlabel('Features')\n",
    "plt.ylabel('Accuracy')\n",
    "plt.title('Accuracy for given feature')\n",
    "plt.show()"
   ]
  },
  {
   "cell_type": "markdown",
   "metadata": {},
   "source": [
    "##### Displaying the average accuracy when the context size is increased"
   ]
  },
  {
   "cell_type": "code",
   "execution_count": 27,
   "metadata": {},
   "outputs": [
    {
     "name": "stdout",
     "output_type": "stream",
     "text": [
      "Context size 5\n",
      "\n",
      "1 time\n",
      "\n",
      "Accuracy: 0.72\n",
      "\n",
      "2 time\n",
      "\n",
      "Accuracy: 0.74\n",
      "\n",
      "3 time\n",
      "\n",
      "Accuracy: 0.7\n",
      "\n",
      "4 time\n",
      "\n",
      "Accuracy: 0.72\n",
      "\n",
      "5 time\n",
      "\n",
      "Accuracy: 0.74\n",
      "\n"
     ]
    },
    {
     "data": {
      "image/png": "[encoded data removed]",
      "text/plain": [
       "<Figure size 432x288 with 1 Axes>"
      ]
     },
     "metadata": {
      "needs_background": "light"
     },
     "output_type": "display_data"
    },
    {
     "name": "stdout",
     "output_type": "stream",
     "text": [
      "The avarage accuracy is: 0.724\n",
      "\n",
      "######################################################################################################\n",
      "Context size 10\n",
      "\n",
      "1 time\n",
      "\n",
      "Accuracy: 0.74\n",
      "\n",
      "2 time\n",
      "\n",
      "Accuracy: 0.74\n",
      "\n",
      "3 time\n",
      "\n",
      "Accuracy: 0.72\n",
      "\n",
      "4 time\n",
      "\n",
      "Accuracy: 0.74\n",
      "\n",
      "5 time\n",
      "\n",
      "Accuracy: 0.74\n",
      "\n"
     ]
    },
    {
     "data": {
      "image/png": "[encoded data removed]",
      "text/plain": [
       "<Figure size 432x288 with 1 Axes>"
      ]
     },
     "metadata": {
      "needs_background": "light"
     },
     "output_type": "display_data"
    },
    {
     "name": "stdout",
     "output_type": "stream",
     "text": [
      "The avarage accuracy is: 0.7360000000000001\n",
      "\n",
      "######################################################################################################\n",
      "Context size 15\n",
      "\n",
      "1 time\n",
      "\n",
      "Accuracy: 0.8\n",
      "\n",
      "2 time\n",
      "\n",
      "Accuracy: 0.78\n",
      "\n",
      "3 time\n",
      "\n",
      "Accuracy: 0.78\n",
      "\n",
      "4 time\n",
      "\n",
      "Accuracy: 0.78\n",
      "\n",
      "5 time\n",
      "\n",
      "Accuracy: 0.76\n",
      "\n"
     ]
    },
    {
     "data": {
      "image/png": "[encoded data removed]",
      "text/plain": [
       "<Figure size 432x288 with 1 Axes>"
      ]
     },
     "metadata": {
      "needs_background": "light"
     },
     "output_type": "display_data"
    },
    {
     "name": "stdout",
     "output_type": "stream",
     "text": [
      "The avarage accuracy is: 0.78\n",
      "\n",
      "######################################################################################################\n",
      "Context size 25\n",
      "\n",
      "1 time\n",
      "\n",
      "Accuracy: 0.84\n",
      "\n",
      "2 time\n",
      "\n",
      "Accuracy: 0.84\n",
      "\n",
      "3 time\n",
      "\n",
      "Accuracy: 0.82\n",
      "\n",
      "4 time\n",
      "\n",
      "Accuracy: 0.86\n",
      "\n",
      "5 time\n",
      "\n",
      "Accuracy: 0.84\n",
      "\n"
     ]
    },
    {
     "data": {
      "image/png": "[encoded data removed]",
      "text/plain": [
       "<Figure size 432x288 with 1 Axes>"
      ]
     },
     "metadata": {
      "needs_background": "light"
     },
     "output_type": "display_data"
    },
    {
     "name": "stdout",
     "output_type": "stream",
     "text": [
      "The avarage accuracy is: 0.8400000000000001\n",
      "\n",
      "######################################################################################################\n",
      "Context size 40\n",
      "\n",
      "1 time\n",
      "\n",
      "Accuracy: 0.86\n",
      "\n",
      "2 time\n",
      "\n",
      "Accuracy: 0.88\n",
      "\n",
      "3 time\n",
      "\n",
      "Accuracy: 0.84\n",
      "\n",
      "4 time\n",
      "\n",
      "Accuracy: 0.88\n",
      "\n",
      "5 time\n",
      "\n",
      "Accuracy: 0.82\n",
      "\n"
     ]
    },
    {
     "data": {
      "image/png": "[encoded data removed]",
      "text/plain": [
       "<Figure size 432x288 with 1 Axes>"
      ]
     },
     "metadata": {
      "needs_background": "light"
     },
     "output_type": "display_data"
    },
    {
     "name": "stdout",
     "output_type": "stream",
     "text": [
      "The avarage accuracy is: 0.8560000000000001\n",
      "\n",
      "######################################################################################################\n"
     ]
    },
    {
     "data": {
      "image/png": "[encoded data removed]",
      "text/plain": [
       "<Figure size 432x288 with 1 Axes>"
      ]
     },
     "metadata": {
      "needs_background": "light"
     },
     "output_type": "display_data"
    }
   ],
   "source": [
    "################################################################################## Context size incrementing\n",
    "average_accuracy = []\n",
    "print(\"Context size 5\\n\")\n",
    "average_accuracy.append(get_avarage_accuracy(combined_corpora,target_words,5,printing = False))\n",
    "print(\"Context size 10\\n\")\n",
    "average_accuracy.append(get_avarage_accuracy(combined_corpora,target_words,10,printing = False))\n",
    "print(\"Context size 15\\n\")\n",
    "average_accuracy.append(get_avarage_accuracy(combined_corpora,target_words,15,printing = False))\n",
    "print(\"Context size 25\\n\")\n",
    "average_accuracy.append(get_avarage_accuracy(combined_corpora,target_words,25,printing = False))\n",
    "print(\"Context size 40\\n\")\n",
    "average_accuracy.append(get_avarage_accuracy(combined_corpora,target_words,40,printing = False))\n",
    "plt.plot(context_sizes,average_accuracy)\n",
    "plt.xlabel('Context size')\n",
    "plt.ylabel('Average accuracy')\n",
    "plt.title('Average accuracy for different context sizes')\n",
    "plt.show()"
   ]
  },
  {
   "cell_type": "code",
   "execution_count": null,
   "metadata": {},
   "outputs": [],
   "source": []
  }
 ],
 "metadata": {
  "kernelspec": {
   "display_name": "Python 3",
   "language": "python",
   "name": "python3"
  },
  "language_info": {
   "codemirror_mode": {
    "name": "ipython",
    "version": 3
   },
   "file_extension": ".py",
   "mimetype": "text/x-python",
   "name": "python",
   "nbconvert_exporter": "python",
   "pygments_lexer": "ipython3",
   "version": "3.7.6"
  }
 },
 "nbformat": 4,
 "nbformat_minor": 4
}
