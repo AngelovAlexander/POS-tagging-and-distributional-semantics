{
 "cells": [
  {
   "cell_type": "markdown",
   "metadata": {},
   "source": [
    "# Natural Language Systems (COMP34112) \n",
    "# Alexander Angelov<br>\n",
    "## Coursework 1 (Task 1)"
   ]
  },
  {
   "cell_type": "markdown",
   "metadata": {},
   "source": [
    "Importing the necessary libraries and downloading the corpuses(if needed)."
   ]
  },
  {
   "cell_type": "code",
   "execution_count": 1,
   "metadata": {},
   "outputs": [],
   "source": [
    "from nltk import *\n",
    "#download('brown')\n",
    "#download('averaged_perceptron_tagger')\n",
    "#download('punkt')"
   ]
  },
  {
   "cell_type": "markdown",
   "metadata": {},
   "source": [
    "Functions for:\n",
    "- Getting all occurences of a given tag in the given corpus.\n",
    "- Getting the probability of a tag A following tag B in a given corpus."
   ]
  },
  {
   "cell_type": "code",
   "execution_count": 2,
   "metadata": {},
   "outputs": [],
   "source": [
    "def get_occurrences_of_tag(tag,corpora):\n",
    "\treturn corpora[tag].N()\n",
    "\t\n",
    "def get_prob_oftag_sequence(tag_1,tag_2,pos_tags,corpora):\n",
    "\ttrue_tag_pairs = 0\n",
    "\tbrown_tag_pairs = bigrams(pos_tags)\n",
    "\tfor (pair_1, pair_2) in brown_tag_pairs:\n",
    "\t\tif(pair_1[1] == tag_2 and pair_2[1] == tag_1):\n",
    "\t\t\ttrue_tag_pairs += 1\n",
    "\treturn true_tag_pairs / get_occurrences_of_tag(tag_2,corpora)"
   ]
  },
  {
   "cell_type": "markdown",
   "metadata": {},
   "source": [
    "Connecting each word with its POS tag in a tuple."
   ]
  },
  {
   "cell_type": "code",
   "execution_count": 3,
   "metadata": {},
   "outputs": [
    {
     "name": "stdout",
     "output_type": "stream",
     "text": [
      "[('The', 'AT'), ('Fulton', 'NP-TL'), ...]\n"
     ]
    }
   ],
   "source": [
    "#sentence = word_tokenize(\"People continue to inquire the reason for the race for outer space\")\n",
    "\n",
    "brown_pos_tags = corpus.brown.tagged_words()\n",
    "print(brown_pos_tags)"
   ]
  },
  {
   "cell_type": "markdown",
   "metadata": {},
   "source": [
    "Reversing the elements of each pair in order to get the number of occurences for each POS tag easily."
   ]
  },
  {
   "cell_type": "code",
   "execution_count": 4,
   "metadata": {},
   "outputs": [],
   "source": [
    "brown_cond_dist = ConditionalFreqDist(brown_pos_tags)\n",
    "reversed_brown_cond_dist = ConditionalFreqDist((p_tag, word) for (word, p_tag) in brown_pos_tags)"
   ]
  },
  {
   "cell_type": "markdown",
   "metadata": {},
   "source": [
    "Finding the necessary word likelihhod probabilities"
   ]
  },
  {
   "cell_type": "code",
   "execution_count": 5,
   "metadata": {},
   "outputs": [
    {
     "name": "stdout",
     "output_type": "stream",
     "text": [
      "The word likelihood probabilities are: \n",
      "\n",
      "   P(race|NN) => 0.000616514724208041\n",
      "\n",
      "   P(race|VB) => 0.00011871902175526073\n",
      "\n"
     ]
    }
   ],
   "source": [
    "################################################## Word likelihood probabilities\n",
    "\n",
    "### P(race|NN) = C(NN,race) / C(NN)\n",
    "\n",
    "c_NN_race = brown_cond_dist['race']['NN']\n",
    "c_NN = get_occurrences_of_tag('NN',reversed_brown_cond_dist)\n",
    "p_race_NN = c_NN_race / c_NN\n",
    "\n",
    "### P(race|VB) = C(VB,race) / C(VB)\n",
    "\n",
    "c_VB_race = brown_cond_dist['race']['VB']\n",
    "c_VB = get_occurrences_of_tag('VB',reversed_brown_cond_dist)\n",
    "p_race_VB = c_VB_race / c_VB\n",
    "\n",
    "print(\"The word likelihood probabilities are: \\n\")\n",
    "print(\"   P(race|NN) => \" + str(p_race_NN) + \"\\n\")\n",
    "print(\"   P(race|VB) => \" + str(p_race_VB) + \"\\n\")"
   ]
  },
  {
   "cell_type": "markdown",
   "metadata": {},
   "source": [
    "Finding the necessary transmition probabilities and calculating the product needed for disambiguating which of the two given tags is more likely to be used."
   ]
  },
  {
   "cell_type": "code",
   "execution_count": 6,
   "metadata": {},
   "outputs": [
    {
     "name": "stdout",
     "output_type": "stream",
     "text": [
      "The tag transition probabilities are: \n",
      "\n",
      "   P(NN|AT) => 0.4938392592819445\n",
      "\n",
      "   P(IN|NN) => 0.2771430445333508\n",
      "\n",
      "   P(VB|AT) => 0.00016333363958390755\n",
      "\n",
      "   P(IN|VB) => 0.14077108004630043\n",
      "\n",
      "Disambiguation: \n",
      "\n",
      "   P(race|NN)*P(NN|AT)*P(IN|NN) => 8.437874262336417e-05\n",
      "\n",
      "   P(race|VB)*P(VB|AT)*P(IN|VB) => 2.7296652541619724e-09\n",
      "\n"
     ]
    }
   ],
   "source": [
    "################################################## Tag transition probabilities\n",
    "\n",
    "### P(NN|AT) = (all AT NN sequences) / C(AT)\n",
    "\n",
    "p_NN_AT = get_prob_oftag_sequence('NN','AT',brown_pos_tags,reversed_brown_cond_dist)\n",
    "#print(list(word_tag_pairs))\n",
    "\n",
    "### P(IN|NN) = (all NN IN sequences) / C(NN)\n",
    "\n",
    "p_IN_NN = get_prob_oftag_sequence('IN','NN',brown_pos_tags,reversed_brown_cond_dist)\n",
    "\n",
    "### P(VB|AT) = (all AT VB sequences) / C(AT)\n",
    "\n",
    "p_VB_AT = get_prob_oftag_sequence('VB','AT',brown_pos_tags,reversed_brown_cond_dist)\n",
    "\n",
    "### P(IN|VB) = (all NN IN sequences) / C(VB)\n",
    "\n",
    "p_IN_VB = get_prob_oftag_sequence('IN','VB',brown_pos_tags,reversed_brown_cond_dist)\n",
    "\n",
    "print(\"The tag transition probabilities are: \\n\")\n",
    "print(\"   P(NN|AT) => \" + str(p_NN_AT) + \"\\n\")\n",
    "print(\"   P(IN|NN) => \" + str(p_IN_NN) + \"\\n\")\n",
    "print(\"   P(VB|AT) => \" + str(p_VB_AT) + \"\\n\")\n",
    "print(\"   P(IN|VB) => \" + str(p_IN_VB) + \"\\n\")\n",
    "\n",
    "print(\"Disambiguation: \\n\")\n",
    "print(\"   P(race|NN)*P(NN|AT)*P(IN|NN) => \" + str(p_race_NN * p_NN_AT * p_IN_NN) + \"\\n\")\n",
    "print(\"   P(race|VB)*P(VB|AT)*P(IN|VB) => \" + str(p_race_VB * p_VB_AT * p_IN_VB) + \"\\n\")"
   ]
  },
  {
   "cell_type": "markdown",
   "metadata": {},
   "source": [
    "Calculating how many times POS tag NN is more likely to be used than POS tag VB."
   ]
  },
  {
   "cell_type": "code",
   "execution_count": 7,
   "metadata": {},
   "outputs": [
    {
     "name": "stdout",
     "output_type": "stream",
     "text": [
      "POS tag NN is 30911.754653692537 times more likely to be used in this sentence.\n"
     ]
    }
   ],
   "source": [
    "print(\"POS tag NN is \" + str((p_race_NN * p_NN_AT * p_IN_NN) / (p_race_VB * p_VB_AT * p_IN_VB)) + \" times more likely to be used in this sentence.\")"
   ]
  },
  {
   "cell_type": "code",
   "execution_count": null,
   "metadata": {},
   "outputs": [],
   "source": []
  }
 ],
 "metadata": {
  "kernelspec": {
   "display_name": "Python 3",
   "language": "python",
   "name": "python3"
  },
  "language_info": {
   "codemirror_mode": {
    "name": "ipython",
    "version": 3
   },
   "file_extension": ".py",
   "mimetype": "text/x-python",
   "name": "python",
   "nbconvert_exporter": "python",
   "pygments_lexer": "ipython3",
   "version": "3.7.6"
  }
 },
 "nbformat": 4,
 "nbformat_minor": 4
}
